{
  "cells": [
    {
      "cell_type": "code",
      "execution_count": null,
      "metadata": {
        "id": "Mys62RBTA7Xq"
      },
      "outputs": [],
      "source": [
        "#libraries\n",
        "from nltk.chat.util import Chat, reflections"
      ]
    },
    {
      "cell_type": "code",
      "execution_count": null,
      "metadata": {
        "id": "gIsEJEF_BPnH"
      },
      "outputs": [],
      "source": [
        "pairs = [\n",
        "    ['my name is (.*)', ['hi %1']],\n",
        "    ['(hi|hello|hey|holla|hola)', ['hey there', 'hi there', 'heyyyyy']],\n",
        "    ['(.*) in (.*) is fun', ['%1 in %2 is indeed fun']],\n",
        "    ['(.*)(location|city) ?', 'Tokyo, Japan'],\n",
        "    ['(.*)created you', ['Abhipsha did using NLTK']],\n",
        "    ['how is the weather in (.*)', ['the weather in %1 is amazing like always']],\n",
        "    ['(.*)help(.*)', ['I can help you']],\n",
        "    ['(.*) your name?', ['my name is J.A.R.V.I.S']]\n",
        "]"
      ]
    },
    {
      "cell_type": "code",
      "execution_count": null,
      "metadata": {
        "colab": {
          "base_uri": "https://localhost:8080/"
        },
        "id": "exsF76r1CQ5b",
        "outputId": "294b1ea2-f4a9-4c24-ad76-d6f23407aeb4"
      },
      "outputs": [
        {
          "data": {
            "text/plain": [
              "{'i am': 'you are',\n",
              " 'i was': 'you were',\n",
              " 'i': 'you',\n",
              " \"i'm\": 'you are',\n",
              " \"i'd\": 'you would',\n",
              " \"i've\": 'you have',\n",
              " \"i'll\": 'you will',\n",
              " 'my': 'your',\n",
              " 'you are': 'I am',\n",
              " 'you were': 'I was',\n",
              " \"you've\": 'I have',\n",
              " \"you'll\": 'I will',\n",
              " 'your': 'my',\n",
              " 'yours': 'mine',\n",
              " 'you': 'me',\n",
              " 'me': 'you'}"
            ]
          },
          "execution_count": 10,
          "metadata": {},
          "output_type": "execute_result"
        }
      ],
      "source": [
        "reflections"
      ]
    },
    {
      "cell_type": "code",
      "execution_count": null,
      "metadata": {
        "id": "HQRNh1VUCfes"
      },
      "outputs": [],
      "source": [
        "my_dummy_reflections = {\n",
        "    'go' : 'gone',\n",
        "    'hello' : 'hey there'\n",
        "}"
      ]
    },
    {
      "cell_type": "code",
      "execution_count": null,
      "metadata": {
        "colab": {
          "background_save": true,
          "base_uri": "https://localhost:8080/"
        },
        "id": "GxGK36-PBVdf",
        "outputId": "9d79478f-1655-4ece-ee41-2d7e17afdbd9"
      },
      "outputs": [
        {
          "name": "stdout",
          "output_type": "stream",
          "text": [
            "my name is J.A.R.V.I.S\n",
            "Abhipsha did using NLTK\n",
            "heyyyyy\n",
            "universal in tokyo is indeed fun\n"
          ]
        }
      ],
      "source": [
        "chat = Chat(pairs, my_dummy_reflections)\n",
        "#chat._substitute('go hello')\n",
        "chat.converse()"
      ]
    },
    {
      "cell_type": "code",
      "execution_count": null,
      "metadata": {
        "id": "9YNPJydmBfJ2"
      },
      "outputs": [],
      "source": []
    }
  ],
  "metadata": {
    "colab": {
      "provenance": []
    },
    "kernelspec": {
      "display_name": "Python 3",
      "name": "python3"
    },
    "language_info": {
      "name": "python"
    }
  },
  "nbformat": 4,
  "nbformat_minor": 0
}